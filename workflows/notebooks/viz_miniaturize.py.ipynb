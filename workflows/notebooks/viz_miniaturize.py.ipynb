{
 "cells": [
  {
   "cell_type": "code",
   "execution_count": null,
   "id": "95caac4d",
   "metadata": {},
   "outputs": [],
   "source": [
    "# start coding here\n",
    "import seaborn as sns \n",
    "import matplotlib.pyplot as plt\n",
    "import matplotlib as mpl\n",
    "import pandas as pd \n",
    "\n",
    "mpl.style.use(snakemake.input.rc_file)\n",
    "\n",
    "df = pd.read_csv(snakemake.input.csv_file)\n",
    "df"
   ]
  },
  {
   "cell_type": "code",
   "execution_count": null,
   "id": "b9aaa67e-d34d-4219-9d3f-5a4765e4a578",
   "metadata": {},
   "outputs": [],
   "source": [
    "sns.lineplot(\n",
    "    df, \n",
    "    x='step', \n",
    "    y='energy', \n",
    "    hue='replica',\n",
    "    palette='crest'\n",
    ")\n",
    "\n",
    "plt.title(\"Chain energy over time\")\n",
    "plt.savefig(snakemake.output[0])"
   ]
  },
  {
   "cell_type": "code",
   "execution_count": null,
   "id": "e8961beb-45d0-47f4-aabb-a9a6d818b2cd",
   "metadata": {},
   "outputs": [],
   "source": [
    "sns.kdeplot(\n",
    "    df,\n",
    "    x='energy',\n",
    "    hue='beta',\n",
    "    palette='crest',\n",
    "    linewidth=0.0,\n",
    "    fill=True,\n",
    ")\n",
    "\n",
    "plt.title(\"Distribution of energies per inverse temperature\")\n",
    "plt.savefig(snakemake.output[1])"
   ]
  }
 ],
 "metadata": {
  "kernelspec": {
   "display_name": "Python 3 (ipykernel)",
   "language": "python",
   "name": "python3"
  },
  "language_info": {
   "codemirror_mode": {
    "name": "ipython",
    "version": 3
   },
   "file_extension": ".py",
   "mimetype": "text/x-python",
   "name": "python",
   "nbconvert_exporter": "python",
   "pygments_lexer": "ipython3",
   "version": "3.12.8"
  }
 },
 "nbformat": 4,
 "nbformat_minor": 5
}
