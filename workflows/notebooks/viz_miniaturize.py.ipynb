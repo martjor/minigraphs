{
 "cells": [
  {
   "cell_type": "code",
   "execution_count": null,
   "id": "95caac4d",
   "metadata": {},
   "outputs": [],
   "source": [
    "# start coding here\n",
    "import seaborn as sns \n",
    "import matplotlib.pyplot as plt\n",
    "import matplotlib as mpl\n",
    "import pandas as pd \n",
    "\n",
    "mpl.style.use(snakemake.input.rc_file)\n",
    "\n",
    "df = pd.read_csv(snakemake.input.csv_file)\n",
    "df"
   ]
  },
  {
   "cell_type": "code",
   "execution_count": null,
   "id": "b9aaa67e-d34d-4219-9d3f-5a4765e4a578",
   "metadata": {},
   "outputs": [],
   "source": [
    "sns.lineplot(\n",
    "    df, \n",
    "    x='step', \n",
    "    y='energy', \n",
    "    hue='replica',\n",
    "    palette='pastel',\n",
    "    linewidth=1.0,\n",
    "    alpha=0.5\n",
    ")\n",
    "\n",
    "sns.lineplot(\n",
    "    df, \n",
    "    x='step',\n",
    "    y='energy',\n",
    "    linewidth=1.0,\n",
    "    color='black',\n",
    "    estimator='min',\n",
    "    errorbar=None,\n",
    "    label=r'$E_{\\min}(t)$'\n",
    ")\n",
    "\n",
    "idx_min = df['energy'].idxmin()\n",
    "data = df.loc[idx_min]\n",
    "\n",
    "plt.scatter(data['step'], data['energy'], 20, marker='o', color='red', label=fr\"$E_\\min={data['energy']:.2f}$\")\n",
    "\n",
    "plt.legend()\n",
    "\n",
    "plt.title(\"Chain energy over time\")\n",
    "plt.savefig(snakemake.output[0])"
   ]
  },
  {
   "cell_type": "code",
   "execution_count": null,
   "id": "e8961beb-45d0-47f4-aabb-a9a6d818b2cd",
   "metadata": {},
   "outputs": [],
   "source": [
    "sns.kdeplot(\n",
    "    df,\n",
    "    x='energy',\n",
    "    hue='beta',\n",
    "    palette='pastel',\n",
    "    linewidth=0.0,\n",
    "    fill=True,\n",
    ")\n",
    "\n",
    "plt.title(\"Distribution of energies per inverse temperature\")\n",
    "plt.savefig(snakemake.output[1])"
   ]
  }
 ],
 "metadata": {
  "kernelspec": {
   "display_name": "Python 3 (ipykernel)",
   "language": "python",
   "name": "python3"
  },
  "language_info": {
   "codemirror_mode": {
    "name": "ipython",
    "version": 3
   },
   "file_extension": ".py",
   "mimetype": "text/x-python",
   "name": "python",
   "nbconvert_exporter": "python",
   "pygments_lexer": "ipython3",
   "version": "3.12.8"
  }
 },
 "nbformat": 4,
 "nbformat_minor": 5
}
